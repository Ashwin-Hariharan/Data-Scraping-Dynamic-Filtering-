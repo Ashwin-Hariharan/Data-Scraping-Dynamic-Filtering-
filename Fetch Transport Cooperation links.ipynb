{
 "cells": [
  {
   "cell_type": "code",
   "execution_count": null,
   "id": "f2b77799-87d1-43e6-8a62-7f385332e954",
   "metadata": {},
   "outputs": [],
   "source": [
    "pip install selenium pandas webdriver-manager"
   ]
  },
  {
   "cell_type": "code",
   "execution_count": 1,
   "id": "e9d8cf86-ff1a-40af-ad77-d3e0c944af91",
   "metadata": {},
   "outputs": [
    {
     "name": "stdout",
     "output_type": "stream",
     "text": [
      "https://www.redbus.in/online-booking/puducherry-road-transport-corporation-prtc\n",
      "https://www.redbus.in/online-booking/ksrtc-karnataka\n",
      "https://www.redbus.in/online-booking/gsrtc\n",
      "https://www.redbus.in/online-booking/upsrtc\n",
      "https://www.redbus.in/online-booking/rsrtc\n",
      "https://www.redbus.in/online-booking/astc\n",
      "https://www.redbus.in/online-booking/apsrtc\n",
      "https://www.redbus.in/online-booking/jksrtc\n",
      "https://www.redbus.in/online-booking/south-bengal-state-transport-corporation-sbstc\n",
      "https://www.redbus.in/online-booking/tnstc\n",
      "https://www.redbus.in/online-booking/hrtc\n",
      "https://www.redbus.in/online-booking/ksrtc-kerala\n",
      "https://www.redbus.in/online-booking/tsrtc\n"
     ]
    }
   ],
   "source": [
    "##getting all the Transport coopertaion links\n",
    "\n",
    "from selenium import webdriver\n",
    "from selenium.webdriver.common.by import By\n",
    "import re\n",
    "\n",
    "# Set up the Selenium WebDriver\n",
    "driver = webdriver.Chrome()  # Ensure you have the correct WebDriver installed\n",
    "driver.get(\"https://www.redbus.in/\")  # Replace with the actual URL\n",
    "\n",
    "# Extract all script elements\n",
    "script_elements = driver.find_elements(By.TAG_NAME, \"script\")\n",
    "\n",
    "tc_links = []\n",
    "\n",
    "# Pattern to match RTC-like URLs (e.g., beginning with // or specific keywords)\n",
    "url_pattern = re.compile(r'[\"\\'](//[^\"\\']+|http[^\"\\']+)[\"\\']')\n",
    "\n",
    "for script in script_elements:\n",
    "    script_content = script.get_attribute(\"innerHTML\")\n",
    "    if script_content:  # Check if the script content is not empty\n",
    "        matches = url_pattern.findall(script_content)\n",
    "        tc_links.extend(matches)\n",
    "\n",
    "# Remove duplicates and format links (e.g., add \"http:\" prefix if missing)\n",
    "tc_links = list(set([\"http:\" + link if link.startswith(\"//\") else link for link in tc_links]))\n",
    "\n",
    "\n",
    "rtc_pages = [page for page in tc_links if 'rtc' in page.lower()]  #to get all the rtc links\n",
    "stc_pages = [page for page in tc_links if 'stc' in page.lower()]  #to get all the stc links\n",
    "filtered_rtc = [item for item in rtc_pages if not ('.png' in item or 'directory' in item or '.svg' in item or 'offer' in item.lower())]  #to filter the rtc links\n",
    "filtered_stc = [item for item in stc_pages if not ('.png' in item or 'directory' in item or '.svg' in item or 'offer' in item.lower())]  #to filter the stc links\n",
    "Tran_coopertaion_links=filtered_rtc+filtered_stc\n",
    "cleaned_Tran_coopertaion_links = [item.rstrip('\\\\') for item in Tran_coopertaion_links]\n",
    "Tran_coopertaion_links=list(set(cleaned_Tran_coopertaion_links))   #to get all unique transport coopoeration links\n",
    "# Print the filtered results\n",
    "\n",
    "for page in Tran_coopertaion_links:\n",
    "    print(page)\n",
    "\n",
    "# Close the WebDriver\n",
    "driver.quit()\n"
   ]
  }
 ],
 "metadata": {
  "kernelspec": {
   "display_name": "Python 3 (ipykernel)",
   "language": "python",
   "name": "python3"
  },
  "language_info": {
   "codemirror_mode": {
    "name": "ipython",
    "version": 3
   },
   "file_extension": ".py",
   "mimetype": "text/x-python",
   "name": "python",
   "nbconvert_exporter": "python",
   "pygments_lexer": "ipython3",
   "version": "3.12.7"
  }
 },
 "nbformat": 4,
 "nbformat_minor": 5
}
