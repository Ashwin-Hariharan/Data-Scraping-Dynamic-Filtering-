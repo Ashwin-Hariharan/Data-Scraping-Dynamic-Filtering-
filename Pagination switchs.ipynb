{
 "cells": [
  {
   "cell_type": "code",
   "execution_count": null,
   "id": "5c061d6e-cce5-4474-8af8-05ec5c5c2340",
   "metadata": {},
   "outputs": [],
   "source": [
    "from selenium import webdriver\n",
    "from selenium.webdriver.common.by import By\n",
    "from selenium.webdriver.common.action_chains import ActionChains\n",
    "from selenium.common.exceptions import NoSuchElementException, ElementClickInterceptedException, StaleElementReferenceException\n",
    "from selenium.webdriver.support.ui import WebDriverWait\n",
    "from selenium.webdriver.support import expected_conditions as EC\n",
    "import time"
   ]
  },
  {
   "cell_type": "code",
   "execution_count": null,
   "id": "8d826be2-a5e1-4589-becc-bfcebce61638",
   "metadata": {},
   "outputs": [],
   "source": [
    "# Function to initialize WebDriver\n",
    "def init_driver():\n",
    "    driver = webdriver.Chrome()  # Or replace with your WebDriver path\n",
    "    driver.maximize_window()\n",
    "    return driver"
   ]
  },
  {
   "cell_type": "code",
   "execution_count": null,
   "id": "fb48c3ea-2c6d-4767-b939-de8c5a502aed",
   "metadata": {},
   "outputs": [],
   "source": [
    "# Function to scroll to an element\n",
    "def scroll_to_element(driver, element):\n",
    "    \"\"\"Scroll the page to make the element visible.\"\"\"\n",
    "    actions = ActionChains(driver)\n",
    "    actions.move_to_element(element).perform()"
   ]
  },
  {
   "cell_type": "code",
   "execution_count": null,
   "id": "00c792a9-6fc1-434e-bfaf-9b4896bd0faa",
   "metadata": {},
   "outputs": [],
   "source": [
    "# Function to navigate through pages and scrape bus details\n",
    "def navigate_through_pages(driver, base_url):\n",
    "    driver.get(base_url)  # Visit the base URL\n",
    "    \"\"\"Scrape bus details from the TC page.\"\"\"\n",
    "    driver.get(base_url)\n",
    "    time.sleep(5)  # Allow page to load initially\n",
    "\n",
    "    while True:\n",
    "        try:\n",
    "            # Wait for the bus list to load\n",
    "            try:\n",
    "                WebDriverWait(driver, 30).until(EC.presence_of_all_elements_located((By.CLASS_NAME, \"route_link\")))\n",
    "            except Exception as e:\n",
    "                print(\"Bus details did not load properly:\", e)\n",
    "                return []\n",
    "\n",
    "            # Scrape bus details\n",
    "            all_data = []\n",
    "            buses = driver.find_elements(By.CLASS_NAME, \"route_link\")\n",
    "            print(len(buses))\n",
    "                \n",
    "            # Wait for the pagination buttons to load (using a unique identifier like class name or XPath)\n",
    "    \n",
    "            page_tabs = driver.find_elements(By.CLASS_NAME, \"DC_117_pageTabs\")\n",
    "            \n",
    "            # Find the active page (the one with class 'DC_117_pageActive')\n",
    "            active_page = None\n",
    "            for page_tab in page_tabs:\n",
    "                if \"DC_117_pageActive\" in page_tab.get_attribute(\"class\"):\n",
    "                    active_page = page_tab\n",
    "                    break\n",
    "\n",
    "            if not active_page:\n",
    "                print(\"No active page found, unable to navigate.\")\n",
    "                break\n",
    "\n",
    "            # Print active page number\n",
    "            active_page_number = active_page.text\n",
    "            print(f\"Currently on page: {active_page_number}\")\n",
    "            \n",
    "            # Try to locate the \"next\" page button/tab (it could be the next sibling of the active page tab)\n",
    "            next_page = None\n",
    "            active_index = page_tabs.index(active_page)\n",
    "            \n",
    "            # Check if next page exists\n",
    "            if active_index < len(page_tabs) - 1:\n",
    "                next_page = page_tabs[active_index + 1]\n",
    "\n",
    "            if next_page:\n",
    "                # Scroll to the next page and click\n",
    "                print(f\"Scrolling to next page: {next_page.text}\")\n",
    "                scroll_to_element(driver, next_page)  # Scroll to the \"next\" button\n",
    "                WebDriverWait(driver, 10).until(EC.element_to_be_clickable(next_page))\n",
    "                next_page.click()\n",
    "                \n",
    "                # Wait for page to refresh (or for the stale element to disappear)\n",
    "                \"\"\"WebDriverWait(driver, 10).until(EC.staleness_of(active_page))\"\"\"\n",
    "                time.sleep(3)  # Give time for new content to load\n",
    "            else:\n",
    "                print(\"No more pages to navigate.\")\n",
    "                break  # Exit loop if there is no next page\n",
    "\n",
    "        except NoSuchElementException:\n",
    "            print(\"Pagination elements not found.\")\n",
    "            break\n",
    "        except StaleElementReferenceException:\n",
    "            print(\"Stale element found, retrying...\")\n",
    "            continue\n",
    "        except ElementClickInterceptedException as e:\n",
    "            print(f\"Click interception error: {e}\")\n",
    "            continue\n"
   ]
  },
  {
   "cell_type": "code",
   "execution_count": null,
   "id": "ff2c6865-575d-4e71-80dd-829175f1a3c6",
   "metadata": {},
   "outputs": [],
   "source": [
    "# Main execution function\n",
    "def main():\n",
    "    base_url = \"https://www.redbus.in/online-booking/gsrtc\"  # URL of the page to scrape\n",
    "    driver = init_driver()\n",
    "\n",
    "    try:\n",
    "        # Navigate through pagination and scrape data\n",
    "        navigate_through_pages(driver, base_url)\n",
    "    except Exception as e:\n",
    "        print(f\"Error during scraping: {e}\")\n",
    "    finally:\n",
    "        driver.quit()  # Ensure that the driver quits after execution"
   ]
  },
  {
   "cell_type": "code",
   "execution_count": null,
   "id": "36937203-c6a3-4081-8a91-902b596571fb",
   "metadata": {},
   "outputs": [],
   "source": [
    "# Run the main function\n",
    "if __name__ == \"__main__\":\n",
    "    main()"
   ]
  }
 ],
 "metadata": {
  "kernelspec": {
   "display_name": "Python 3 (ipykernel)",
   "language": "python",
   "name": "python3"
  },
  "language_info": {
   "codemirror_mode": {
    "name": "ipython",
    "version": 3
   },
   "file_extension": ".py",
   "mimetype": "text/x-python",
   "name": "python",
   "nbconvert_exporter": "python",
   "pygments_lexer": "ipython3",
   "version": "3.12.7"
  }
 },
 "nbformat": 4,
 "nbformat_minor": 5
}
